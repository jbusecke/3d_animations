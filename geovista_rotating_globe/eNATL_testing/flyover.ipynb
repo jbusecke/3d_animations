{
 "cells": [
  {
   "cell_type": "markdown",
   "id": "d84de11d-cd57-4916-915a-209bcfe68d42",
   "metadata": {},
   "source": [
    "Need to run this on a docker image with pyvista etc installed, e.g. `quay.io/jbusecke/pangeo_pyvista_docker_image:698eff3ebb26`"
   ]
  },
  {
   "cell_type": "code",
   "execution_count": 1,
   "id": "6d33340d-1cf3-4665-a106-c9e424aaff4c",
   "metadata": {},
   "outputs": [],
   "source": [
    "# !pip install ../../"
   ]
  },
  {
   "cell_type": "code",
   "execution_count": 2,
   "id": "33df94cb-bbb2-4269-bf8f-f15aa5150c68",
   "metadata": {},
   "outputs": [],
   "source": [
    "from pyvista_tools.movie import Movie\n",
    "from pyvista_tools.path import camera_path\n",
    "\n",
    "import xarray as xr\n",
    "import numpy as np\n",
    "ds = xr.open_zarr(\"gs://leap-persistent/data-library/feedstocks/eNATL_feedstock/eNATL60-BLBT02.zarr\", chunks={})\n",
    "ds = ds.rename({'nav_lon':'lon', 'nav_lat':'lat'})\n",
    "\n",
    "# mask out the land\n",
    "mask = (ds['vosaline']>0).isel(time=0).reset_coords(drop=True)\n",
    "ds = ds.where(mask)"
   ]
  },
  {
   "cell_type": "code",
   "execution_count": 3,
   "id": "168788cc-de68-4a8d-bd49-b2c9ffedd26a",
   "metadata": {},
   "outputs": [],
   "source": [
    "# lets for now just keep the same position and move in closer\n",
    "nframes = len(ds.time)\n",
    "nmove = nframes//2\n",
    "lon = np.linspace(-35, -60, nframes)\n",
    "lat = np.linspace(30, 38, nframes)\n",
    "# zoom in then stand still\n",
    "r = np.linspace(2.8, 1.4, nframes)\n",
    "path = camera_path(lon, lat, r)"
   ]
  },
  {
   "cell_type": "code",
   "execution_count": 4,
   "id": "cc91e587-5078-4131-95a4-458d94e2ca6e",
   "metadata": {},
   "outputs": [],
   "source": [
    "factor = 1\n",
    "ds_movie = ds.isel(x=slice(0,None, factor), y=slice(0,None, factor))"
   ]
  },
  {
   "cell_type": "code",
   "execution_count": 5,
   "id": "96c4c352-052a-4272-9e13-8831fb7918fc",
   "metadata": {},
   "outputs": [],
   "source": [
    "kwargs = {\n",
    "    'vosaline':{'clim':[32.5, 38], 'cmap':'inferno'},\n",
    "    'votemper':{'clim':[2, 30], 'cmap':'viridis'},\n",
    "    'vovecrtz':{'clim':[-0.0005, 0.0005], 'cmap':'RdBu_r'},\n",
    "}"
   ]
  },
  {
   "cell_type": "code",
   "execution_count": 6,
   "id": "5e69920c-e6e9-4e37-aa55-e9c91ee88bd5",
   "metadata": {},
   "outputs": [],
   "source": [
    "from dask.diagnostics import ProgressBar"
   ]
  },
  {
   "cell_type": "code",
   "execution_count": 7,
   "id": "f1474cd6-0100-4ef4-a43d-afd4638514bc",
   "metadata": {},
   "outputs": [
    {
     "name": "stdout",
     "output_type": "stream",
     "text": [
      "[########                                ] | 20% Completed | 6.94 sms\n"
     ]
    },
    {
     "name": "stderr",
     "output_type": "stream",
     "text": [
      "\n",
      "KeyboardInterrupt\n",
      "\n"
     ]
    }
   ],
   "source": [
    "for var in [ 'vovecrtz']:\n",
    "    with ProgressBar():\n",
    "        da_preloaded = ds_movie[var].load() \n",
    "    # give almost a 2 times speedup, but I cannot do that \n",
    "    # for very large datasets (e.g. a not subsampled version) unless I get\n",
    "    # very large instances.\n",
    "    # I want some way for dask to cache ahead only a few timesteps (and use\n",
    "    # Idle CPU cycles that way).\n",
    "    # I could probably handle that on the Movie class somehow and add frames \n",
    "    # In batches. Might not use the CPU *as* efficiently, but I think that \n",
    "    # it would certainly help!\n",
    "    # Pressing 1 in `top` gives the per core useage (the other output is confusing\n",
    "    # still the useage pre vCPU is like around 0-20% at most times, that seems bad. \n",
    "\n",
    "    # Is this IO bound on the write? I could play with the quality (should not affect the IO?) and \n",
    "    # the resolution (this would probably affect both io and cpu load?) to find out more. \n",
    "\n",
    "    # I need to profile this for a few timesteps!\n",
    "        \n",
    "    # da_preloaded = ds_movie[var]\n",
    "    m = Movie(\n",
    "        da_preloaded,\n",
    "        camera_path=path,\n",
    "        **kwargs[var]\n",
    "    )\n",
    "    m.render(f'keep/eNATL_flyover_{var}.mp4')\n",
    "    del da_preloaded"
   ]
  },
  {
   "cell_type": "markdown",
   "id": "2f3918a2-99cd-434c-af29-b01ba75be1d3",
   "metadata": {},
   "source": [
    "Hmmm this is weird, even if I choose a 64 core machine I get very similar CPU % patterns (never exceeding 16) and time to run. I wonder if there is an issue with using cores across sockets?\n",
    "\n",
    "See comment above. I need to understand why the cpu useage is generally so low? Might be that there is not enough work \n",
    "\n",
    "Some further improvements: \n",
    "- Thresholding outside of the loop?\n",
    "- Use [ghosting](https://docs.pyvista.org/examples/02-plot/ghost-cells.html) instead of thresholding?"
   ]
  },
  {
   "cell_type": "code",
   "execution_count": null,
   "id": "73c0c057-1f34-46b1-86b1-aea52869d888",
   "metadata": {},
   "outputs": [],
   "source": [
    "# m.preview(0)"
   ]
  },
  {
   "cell_type": "code",
   "execution_count": null,
   "id": "8049c25a-5b98-45d7-94f3-1f10b2000395",
   "metadata": {},
   "outputs": [],
   "source": [
    "m"
   ]
  },
  {
   "cell_type": "code",
   "execution_count": null,
   "id": "3042851a-a6ce-4bf9-b3f2-2161e2264996",
   "metadata": {},
   "outputs": [],
   "source": [
    "# m.preview(9)"
   ]
  }
 ],
 "metadata": {
  "kernelspec": {
   "display_name": "Python 3 (ipykernel)",
   "language": "python",
   "name": "python3"
  },
  "language_info": {
   "codemirror_mode": {
    "name": "ipython",
    "version": 3
   },
   "file_extension": ".py",
   "mimetype": "text/x-python",
   "name": "python",
   "nbconvert_exporter": "python",
   "pygments_lexer": "ipython3",
   "version": "3.12.4"
  }
 },
 "nbformat": 4,
 "nbformat_minor": 5
}
