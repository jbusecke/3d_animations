{
 "cells": [
  {
   "cell_type": "markdown",
   "id": "7ed2c6a1-6b99-444a-a7de-35f0090c644b",
   "metadata": {},
   "source": [
    "- Install this repo locally!\n",
    "- Then the imports below should work!"
   ]
  },
  {
   "cell_type": "code",
   "execution_count": null,
   "id": "ff33692f-1ff7-4cd7-9bb8-853447de434a",
   "metadata": {},
   "outputs": [],
   "source": [
    "from pyvista_tools.movie import Movie\n",
    "from pyvista_tools.path import camera_path\n",
    "\n",
    "import xarray as xr\n",
    "import numpy as np"
   ]
  },
  {
   "cell_type": "code",
   "execution_count": null,
   "id": "f9fbcc37-ea26-46d7-9a88-dca44f585d08",
   "metadata": {},
   "outputs": [],
   "source": [
    "# load dataset\n",
    "ds = ..."
   ]
  },
  {
   "cell_type": "code",
   "execution_count": null,
   "id": "ebc8b2d4-fba1-459a-af93-f95b3aced17c",
   "metadata": {},
   "outputs": [],
   "source": [
    "# make a path defined by the lon/lat position (leave r as 4.0 or close to that)\n",
    "nframes = len(ds.time)\n",
    "\n",
    "lon = np.linspace(..., ..., nframes)\n",
    "lat = np.linspace(..., ..., nframes)\n",
    "r = np.repeat(4.0, nframes)\n",
    "path = camera_path(lon, lat, r)"
   ]
  },
  {
   "cell_type": "code",
   "execution_count": null,
   "id": "bdbc10e0-9b33-444f-9b03-5c6c22e5aafe",
   "metadata": {},
   "outputs": [],
   "source": [
    "m = Movie(\n",
    "    ds['something'],\n",
    "    camera_path=path,\n",
    "    clim=[34, 38], \n",
    "    cmap=...\n",
    ")"
   ]
  },
  {
   "cell_type": "code",
   "execution_count": null,
   "id": "5861122e-0276-4740-9788-fa1536465eed",
   "metadata": {},
   "outputs": [],
   "source": [
    "m.preview(some_frame_number)"
   ]
  },
  {
   "cell_type": "code",
   "execution_count": null,
   "id": "b259f327-27d2-4538-8c5c-68cd0829c51e",
   "metadata": {},
   "outputs": [],
   "source": [
    "m.render('some_filename.mp4')"
   ]
  }
 ],
 "metadata": {
  "kernelspec": {
   "display_name": "Python 3 (ipykernel)",
   "language": "python",
   "name": "python3"
  },
  "language_info": {
   "codemirror_mode": {
    "name": "ipython",
    "version": 3
   },
   "file_extension": ".py",
   "mimetype": "text/x-python",
   "name": "python",
   "nbconvert_exporter": "python",
   "pygments_lexer": "ipython3",
   "version": "3.10.11"
  }
 },
 "nbformat": 4,
 "nbformat_minor": 5
}
